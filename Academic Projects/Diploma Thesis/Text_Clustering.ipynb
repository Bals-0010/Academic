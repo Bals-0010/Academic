{
 "cells": [
  {
   "cell_type": "code",
   "execution_count": 1,
   "metadata": {},
   "outputs": [],
   "source": [
    "# Loading required libraries\n",
    "import numpy as np\n",
    "import pandas as pd\n",
    "import re, os\n",
    "from math import log2\n",
    "import matplotlib.pyplot as plt\n",
    "%matplotlib inline\n",
    "from sklearn.decomposition import TruncatedSVD \n",
    "from sklearn.feature_extraction.text import TfidfVectorizer\n",
    "from sklearn import metrics # For 3 external cluster validity measures\n",
    "from sklearn.datasets import fetch_20newsgroups # Loading 20-Newsgroup dataset\n",
    "\n",
    "from nltk.stem import WordNetLemmatizer\n",
    "lemmatizer = WordNetLemmatizer()"
   ]
  },
  {
   "cell_type": "code",
   "execution_count": 2,
   "metadata": {},
   "outputs": [],
   "source": [
    "# Common Punctuations\n",
    "punctuations = '!\"#$%&\\'()*+,-./:;<=>?@[\\\\]^_`{|}~'\n",
    "\n",
    "# Stop words consolidated list taken from sklearn.feature_extraction + nltk stop_words + single letter words (a to z)\n",
    "stop_words=['a',\n",
    " 'about',\n",
    " 'above',\n",
    " 'across',\n",
    " 'after',\n",
    " 'afterwards',\n",
    " 'again',\n",
    " 'against',\n",
    " 'all',\n",
    " 'almost',\n",
    " 'alone',\n",
    " 'along',\n",
    " 'already',\n",
    " 'also',\n",
    " 'although',\n",
    " 'always',\n",
    " 'am',\n",
    " 'among',\n",
    " 'amongst',\n",
    " 'amoungst',\n",
    " 'amount',\n",
    " 'an',\n",
    " 'and',\n",
    " 'another',\n",
    " 'any',\n",
    " 'anyhow',\n",
    " 'anyone',\n",
    " 'anything',\n",
    " 'anyway',\n",
    " 'anywhere',\n",
    " 'are',\n",
    " 'around',\n",
    " 'as',\n",
    " 'at',\n",
    " 'b',\n",
    " 'back',\n",
    " 'be',\n",
    " 'became',\n",
    " 'because',\n",
    " 'become',\n",
    " 'becomes',\n",
    " 'becoming',\n",
    " 'been',\n",
    " 'before',\n",
    " 'beforehand',\n",
    " 'behind',\n",
    " 'being',\n",
    " 'below',\n",
    " 'beside',\n",
    " 'besides',\n",
    " 'between',\n",
    " 'beyond',\n",
    " 'bill',\n",
    " 'both',\n",
    " 'bottom',\n",
    " 'but',\n",
    " 'by',\n",
    " 'c',\n",
    " 'call',\n",
    " 'can',\n",
    " 'cannot',\n",
    " 'cant',\n",
    " 'co',\n",
    " 'con',\n",
    " 'could',\n",
    " 'couldnt',\n",
    " 'cry',\n",
    " 'd',\n",
    " 'de',\n",
    " 'describe',\n",
    " 'detail',\n",
    " 'do',\n",
    " 'done',\n",
    " 'down',\n",
    " 'due',\n",
    " 'during',\n",
    " 'e',\n",
    " 'each',\n",
    " 'eg',\n",
    " 'eight',\n",
    " 'either',\n",
    " 'eleven',\n",
    " 'else',\n",
    " 'elsewhere',\n",
    " 'empty',\n",
    " 'enough',\n",
    " 'etc',\n",
    " 'even',\n",
    " 'ever',\n",
    " 'every',\n",
    " 'everyone',\n",
    " 'everything',\n",
    " 'everywhere',\n",
    " 'except',\n",
    " 'f',\n",
    " 'few',\n",
    " 'fifteen',\n",
    " 'fifty',\n",
    " 'fill',\n",
    " 'find',\n",
    " 'fire',\n",
    " 'first',\n",
    " 'five',\n",
    " 'for',\n",
    " 'former',\n",
    " 'formerly',\n",
    " 'forty',\n",
    " 'found',\n",
    " 'four',\n",
    " 'from',\n",
    " 'front',\n",
    " 'full',\n",
    " 'further',\n",
    " 'g',\n",
    " 'get',\n",
    " 'give',\n",
    " 'go',\n",
    " 'h',\n",
    " 'had',\n",
    " 'has',\n",
    " 'hasnt',\n",
    " 'have',\n",
    " 'he',\n",
    " 'hence',\n",
    " 'her',\n",
    " 'here',\n",
    " 'hereafter',\n",
    " 'hereby',\n",
    " 'herein',\n",
    " 'hereupon',\n",
    " 'hers',\n",
    " 'herself',\n",
    " 'him',\n",
    " 'himself',\n",
    " 'his',\n",
    " 'how',\n",
    " 'however',\n",
    " 'hundred',\n",
    " 'i',\n",
    " 'ie',\n",
    " 'if',\n",
    " 'in',\n",
    " 'inc',\n",
    " 'indeed',\n",
    " 'interest',\n",
    " 'into',\n",
    " 'is',\n",
    " 'it',\n",
    " 'its',\n",
    " 'itself',\n",
    " 'j',\n",
    " 'k',\n",
    " 'keep',\n",
    " 'l',\n",
    " 'last',\n",
    " 'latter',\n",
    " 'latterly',\n",
    " 'least',\n",
    " 'less',\n",
    " 'ltd',\n",
    " 'm',\n",
    " 'made',\n",
    " 'many',\n",
    " 'may',\n",
    " 'me',\n",
    " 'meanwhile',\n",
    " 'might',\n",
    " 'mill',\n",
    " 'mine',\n",
    " 'more',\n",
    " 'moreover',\n",
    " 'most',\n",
    " 'mostly',\n",
    " 'move',\n",
    " 'much',\n",
    " 'must',\n",
    " 'my',\n",
    " 'myself',\n",
    " 'n',\n",
    " 'name',\n",
    " 'namely',\n",
    " 'neither',\n",
    " 'never',\n",
    " 'nevertheless',\n",
    " 'next',\n",
    " 'nine',\n",
    " 'no',\n",
    " 'nobody',\n",
    " 'none',\n",
    " 'noone',\n",
    " 'nor',\n",
    " 'not',\n",
    " 'nothing',\n",
    " 'now',\n",
    " 'nowhere',\n",
    " 'o',\n",
    " 'of',\n",
    " 'off',\n",
    " 'often',\n",
    " 'on',\n",
    " 'once',\n",
    " 'one',\n",
    " 'only',\n",
    " 'onto',\n",
    " 'or',\n",
    " 'other',\n",
    " 'others',\n",
    " 'otherwise',\n",
    " 'our',\n",
    " 'ours',\n",
    " 'ourselves',\n",
    " 'out',\n",
    " 'over',\n",
    " 'own',\n",
    " 'p',\n",
    " 'part',\n",
    " 'per',\n",
    " 'perhaps',\n",
    " 'please',\n",
    " 'put',\n",
    " 'q',\n",
    " 'r',\n",
    " 'rather',\n",
    " 're',\n",
    " 's',\n",
    " 'same',\n",
    " 'see',\n",
    " 'seem',\n",
    " 'seemed',\n",
    " 'seeming',\n",
    " 'seems',\n",
    " 'serious',\n",
    " 'several',\n",
    " 'she',\n",
    " 'should',\n",
    " 'show',\n",
    " 'side',\n",
    " 'since',\n",
    " 'sincere',\n",
    " 'six',\n",
    " 'sixty',\n",
    " 'so',\n",
    " 'some',\n",
    " 'somehow',\n",
    " 'someone',\n",
    " 'something',\n",
    " 'sometime',\n",
    " 'sometimes',\n",
    " 'somewhere',\n",
    " 'still',\n",
    " 'such',\n",
    " 'system',\n",
    " 't',\n",
    " 'take',\n",
    " 'ten',\n",
    " 'than',\n",
    " 'that',\n",
    " 'the',\n",
    " 'their',\n",
    " 'them',\n",
    " 'themselves',\n",
    " 'then',\n",
    " 'thence',\n",
    " 'there',\n",
    " 'thereafter',\n",
    " 'thereby',\n",
    " 'therefore',\n",
    " 'therein',\n",
    " 'thereupon',\n",
    " 'these',\n",
    " 'they',\n",
    " 'thick',\n",
    " 'thin',\n",
    " 'third',\n",
    " 'this',\n",
    " 'those',\n",
    " 'though',\n",
    " 'three',\n",
    " 'through',\n",
    " 'throughout',\n",
    " 'thru',\n",
    " 'thus',\n",
    " 'to',\n",
    " 'together',\n",
    " 'too',\n",
    " 'top',\n",
    " 'toward',\n",
    " 'towards',\n",
    " 'twelve',\n",
    " 'twenty',\n",
    " 'two',\n",
    " 'u',\n",
    " 'un',\n",
    " 'under',\n",
    " 'until',\n",
    " 'up',\n",
    " 'upon',\n",
    " 'us',\n",
    " 'v',\n",
    " 'very',\n",
    " 'via',\n",
    " 'w',\n",
    " 'was',\n",
    " 'we',\n",
    " 'well',\n",
    " 'were',\n",
    " 'what',\n",
    " 'whatever',\n",
    " 'when',\n",
    " 'whence',\n",
    " 'whenever',\n",
    " 'where',\n",
    " 'whereafter',\n",
    " 'whereas',\n",
    " 'whereby',\n",
    " 'wherein',\n",
    " 'whereupon',\n",
    " 'wherever',\n",
    " 'whether',\n",
    " 'which',\n",
    " 'while',\n",
    " 'whither',\n",
    " 'who',\n",
    " 'whoever',\n",
    " 'whole',\n",
    " 'whom',\n",
    " 'whose',\n",
    " 'why',\n",
    " 'will',\n",
    " 'with',\n",
    " 'within',\n",
    " 'without',\n",
    " 'would',\n",
    " 'x',\n",
    " 'y',\n",
    " 'yet',\n",
    " 'you',\n",
    " 'your',\n",
    " 'yours',\n",
    " 'yourself',\n",
    " 'yourselves',\n",
    " 'z']"
   ]
  },
  {
   "cell_type": "code",
   "execution_count": 3,
   "metadata": {},
   "outputs": [
    {
     "data": {
      "text/plain": [
       "['alt.atheism',\n",
       " 'comp.graphics',\n",
       " 'comp.os.ms-windows.misc',\n",
       " 'comp.sys.ibm.pc.hardware',\n",
       " 'comp.sys.mac.hardware',\n",
       " 'comp.windows.x',\n",
       " 'misc.forsale',\n",
       " 'rec.autos',\n",
       " 'rec.motorcycles',\n",
       " 'rec.sport.baseball',\n",
       " 'rec.sport.hockey',\n",
       " 'sci.crypt',\n",
       " 'sci.electronics',\n",
       " 'sci.med',\n",
       " 'sci.space',\n",
       " 'soc.religion.christian',\n",
       " 'talk.politics.guns',\n",
       " 'talk.politics.mideast',\n",
       " 'talk.politics.misc',\n",
       " 'talk.religion.misc']"
      ]
     },
     "execution_count": 3,
     "metadata": {},
     "output_type": "execute_result"
    }
   ],
   "source": [
    "## 20 NEWS GROUP DATASET\n",
    "\n",
    "## 20 Newsgroup dataset with headers_footers_quotes (1st variant)\n",
    "# mydata= fetch_20newsgroups(subset='all', shuffle=True)\n",
    "\n",
    "## 20 Newsgroup dataset without headers_footers_quotes (2nd variant)\n",
    "mydata= fetch_20newsgroups(subset='all', shuffle=True, remove = ('headers', 'footers', 'quotes'))\n",
    "\n",
    "# target_names are the true labels \n",
    "groups = mydata['target_names']\n",
    "groups"
   ]
  },
  {
   "cell_type": "code",
   "execution_count": 4,
   "metadata": {},
   "outputs": [
    {
     "data": {
      "text/plain": [
       "(18846, 20)"
      ]
     },
     "execution_count": 4,
     "metadata": {},
     "output_type": "execute_result"
    }
   ],
   "source": [
    "no_of_docs = len(mydata['data'])\n",
    "true_k_value = len(groups)\n",
    "no_of_docs, true_k_value"
   ]
  },
  {
   "cell_type": "code",
   "execution_count": 5,
   "metadata": {},
   "outputs": [
    {
     "data": {
      "text/plain": [
       "array([799, 973, 985, 982, 963, 988, 975, 990, 996, 994, 999, 991, 984,\n",
       "       990, 987, 997, 910, 940, 775, 628], dtype=int64)"
      ]
     },
     "execution_count": 5,
     "metadata": {},
     "output_type": "execute_result"
    }
   ],
   "source": [
    "labels, no_of_groups= np.unique(mydata.target, return_counts=True)\n",
    "no_of_groups"
   ]
  },
  {
   "cell_type": "code",
   "execution_count": 6,
   "metadata": {},
   "outputs": [
    {
     "data": {
      "text/html": [
       "<div>\n",
       "<style scoped>\n",
       "    .dataframe tbody tr th:only-of-type {\n",
       "        vertical-align: middle;\n",
       "    }\n",
       "\n",
       "    .dataframe tbody tr th {\n",
       "        vertical-align: top;\n",
       "    }\n",
       "\n",
       "    .dataframe thead th {\n",
       "        text-align: right;\n",
       "    }\n",
       "</style>\n",
       "<table border=\"1\" class=\"dataframe\">\n",
       "  <thead>\n",
       "    <tr style=\"text-align: right;\">\n",
       "      <th></th>\n",
       "      <th>data</th>\n",
       "      <th>target</th>\n",
       "    </tr>\n",
       "  </thead>\n",
       "  <tbody>\n",
       "    <tr>\n",
       "      <td>0</td>\n",
       "      <td>\\n\\nI am sure some bashers of Pens fans are pr...</td>\n",
       "      <td>10</td>\n",
       "    </tr>\n",
       "    <tr>\n",
       "      <td>1</td>\n",
       "      <td>My brother is in the market for a high-perform...</td>\n",
       "      <td>3</td>\n",
       "    </tr>\n",
       "    <tr>\n",
       "      <td>2</td>\n",
       "      <td>\\n\\n\\n\\n\\tFinally you said what you dream abou...</td>\n",
       "      <td>17</td>\n",
       "    </tr>\n",
       "    <tr>\n",
       "      <td>3</td>\n",
       "      <td>\\nThink!\\n\\nIt's the SCSI card doing the DMA t...</td>\n",
       "      <td>3</td>\n",
       "    </tr>\n",
       "    <tr>\n",
       "      <td>4</td>\n",
       "      <td>1)    I have an old Jasmine drive which I cann...</td>\n",
       "      <td>4</td>\n",
       "    </tr>\n",
       "  </tbody>\n",
       "</table>\n",
       "</div>"
      ],
      "text/plain": [
       "                                                data  target\n",
       "0  \\n\\nI am sure some bashers of Pens fans are pr...      10\n",
       "1  My brother is in the market for a high-perform...       3\n",
       "2  \\n\\n\\n\\n\\tFinally you said what you dream abou...      17\n",
       "3  \\nThink!\\n\\nIt's the SCSI card doing the DMA t...       3\n",
       "4  1)    I have an old Jasmine drive which I cann...       4"
      ]
     },
     "execution_count": 6,
     "metadata": {},
     "output_type": "execute_result"
    }
   ],
   "source": [
    "# 20 Newsgroup\n",
    "# Making a pandas dataframe columns with data:text files and target:ground truth labels\n",
    "mydata_df = pd.DataFrame({'data':mydata.data,'target': mydata.target})\n",
    "\n",
    "# displaying the first 5 rows of the dataframe - before pre-processing\n",
    "mydata_df.head()"
   ]
  },
  {
   "cell_type": "code",
   "execution_count": 7,
   "metadata": {},
   "outputs": [
    {
     "data": {
      "text/plain": [
       "3423145"
      ]
     },
     "execution_count": 7,
     "metadata": {},
     "output_type": "execute_result"
    }
   ],
   "source": [
    "# Display the total number of words in all text documents\n",
    "total_no_of_words = [len(mydata_df['data'][i].split()) for i in range(len(mydata_df))]\n",
    "sum(total_no_of_words)"
   ]
  },
  {
   "cell_type": "code",
   "execution_count": 8,
   "metadata": {},
   "outputs": [
    {
     "data": {
      "image/png": "[encoded data removed]",
      "text/plain": [
       "<Figure size 648x504 with 1 Axes>"
      ]
     },
     "metadata": {
      "needs_background": "light"
     },
     "output_type": "display_data"
    }
   ],
   "source": [
    "# 20 News group - Horizontal Plot - Distribution of 20 groups\n",
    "plt.rcParams['figure.figsize'] = [9, 7]\n",
    "fig, axes = plt.subplots()\n",
    "axes.barh(groups,no_of_groups)\n",
    "axes.set_yticks(groups)\n",
    "axes.set_yticklabels(groups)\n",
    "axes.invert_yaxis()  # labels read top-to-bottom\n",
    "axes.set_xlabel('\\nNumber of files')\n",
    "axes.set_ylabel('\\nDistribution of groups')\n",
    "axes.set_xlim(300,1100)\n",
    "axes.set_title('20-News Group\\n').set_position([.5, 1.03])\n",
    "for i, v in enumerate(no_of_groups):\n",
    "    axes.text(v, i,str('  ')+str(v),verticalalignment='center')\n",
    "plt.show()"
   ]
  },
  {
   "cell_type": "code",
   "execution_count": 39,
   "metadata": {},
   "outputs": [
    {
     "data": {
      "text/html": [
       "<div>\n",
       "<style scoped>\n",
       "    .dataframe tbody tr th:only-of-type {\n",
       "        vertical-align: middle;\n",
       "    }\n",
       "\n",
       "    .dataframe tbody tr th {\n",
       "        vertical-align: top;\n",
       "    }\n",
       "\n",
       "    .dataframe thead th {\n",
       "        text-align: right;\n",
       "    }\n",
       "</style>\n",
       "<table border=\"1\" class=\"dataframe\">\n",
       "  <thead>\n",
       "    <tr style=\"text-align: right;\">\n",
       "      <th></th>\n",
       "      <th>data</th>\n",
       "      <th>target</th>\n",
       "    </tr>\n",
       "  </thead>\n",
       "  <tbody>\n",
       "    <tr>\n",
       "      <td>0</td>\n",
       "      <td>\\n\\nCOMPUTER TERMINAL SYSTEMS &lt;CPML&gt; COMPLETES...</td>\n",
       "      <td>0</td>\n",
       "    </tr>\n",
       "    <tr>\n",
       "      <td>1</td>\n",
       "      <td>\\n\\nOHIO MATTRESS &lt;OMT&gt; MAY HAVE LOWER 1ST QTR...</td>\n",
       "      <td>0</td>\n",
       "    </tr>\n",
       "    <tr>\n",
       "      <td>2</td>\n",
       "      <td>\\n\\nMCLEAN'S &lt;MII&gt; U.S. LINES SETS ASSET TRANS...</td>\n",
       "      <td>0</td>\n",
       "    </tr>\n",
       "    <tr>\n",
       "      <td>3</td>\n",
       "      <td>\\n\\nCHEMLAWN &lt;CHEM&gt; RISES ON HOPES FOR HIGHER ...</td>\n",
       "      <td>0</td>\n",
       "    </tr>\n",
       "    <tr>\n",
       "      <td>4</td>\n",
       "      <td>\\n\\n&lt;COFAB INC&gt; BUYS GULFEX FOR UNDISCLOSED AM...</td>\n",
       "      <td>0</td>\n",
       "    </tr>\n",
       "  </tbody>\n",
       "</table>\n",
       "</div>"
      ],
      "text/plain": [
       "                                                data  target\n",
       "0  \\n\\nCOMPUTER TERMINAL SYSTEMS <CPML> COMPLETES...       0\n",
       "1  \\n\\nOHIO MATTRESS <OMT> MAY HAVE LOWER 1ST QTR...       0\n",
       "2  \\n\\nMCLEAN'S <MII> U.S. LINES SETS ASSET TRANS...       0\n",
       "3  \\n\\nCHEMLAWN <CHEM> RISES ON HOPES FOR HIGHER ...       0\n",
       "4  \\n\\n<COFAB INC> BUYS GULFEX FOR UNDISCLOSED AM...       0"
      ]
     },
     "execution_count": 39,
     "metadata": {},
     "output_type": "execute_result"
    }
   ],
   "source": [
    "# Reuters dataset\n",
    "# Replace below folder path  # folders with subfolders(i.e. groups)\n",
    "# reads main_folder which contains subfolders(i.e groups/true classes)\n",
    "\n",
    "main_folder = \"E:/Bals/Study plan/Lectures_Tutorials/Diploma Thesis/MAN0122/Text_Clustering_MAN0122/Text_Clustering/reuters\"  \n",
    "mydata_df = pd.DataFrame(columns=['data','target'])\n",
    "files_path = os.listdir(main_folder)\n",
    "files_ = []\n",
    "target = []\n",
    "for i in files_path:\n",
    "    for files in os.listdir(main_folder+\"/\"+i+\"/\"):\n",
    "        with open(os.path.join(main_folder+\"/\"+i+\"/\"+files)) as f:\n",
    "            data = f.read()\n",
    "            files_.append(data)\n",
    "            target.append(files_path.index(i))\n",
    "\n",
    "mydata_df['data']   = files_\n",
    "mydata_df['target'] = target\n",
    "mydata_df.head()"
   ]
  },
  {
   "cell_type": "code",
   "execution_count": 40,
   "metadata": {},
   "outputs": [
    {
     "data": {
      "text/plain": [
       "(12897, 80)"
      ]
     },
     "execution_count": 40,
     "metadata": {},
     "output_type": "execute_result"
    }
   ],
   "source": [
    "no_of_docs = len(mydata_df['data'])\n",
    "true_k_value = max(mydata_df['target']) + 1 # since target list starts from 0\n",
    "no_of_docs, true_k_value"
   ]
  },
  {
   "cell_type": "code",
   "execution_count": 41,
   "metadata": {},
   "outputs": [
    {
     "data": {
      "text/plain": [
       "array([2369,   57,   51,  105,   66,    2,   72,    6,    6,  126,   60,\n",
       "          1,  205,   42,    1,   91,    4,  552,    2,  169,    3, 3926,\n",
       "         15,   22,  101,  109,  295,    5,    1,   10,   16,   18,   13,\n",
       "          6,  453,   48,   46,    3,   52,    5,   18,   14,   24,   15,\n",
       "         25,  362,  152,    1,   39,    4,    1,   62,   23,    1,   25,\n",
       "         21,    4,    5,    2,    1,    3,   53,   20,    1,   40,  151,\n",
       "          4,    6,    3,   15,  123,    1,    5,   27,  330, 2110,   30,\n",
       "         23,    6,   13], dtype=int64)"
      ]
     },
     "execution_count": 41,
     "metadata": {},
     "output_type": "execute_result"
    }
   ],
   "source": [
    "labels, no_of_groups= np.unique(mydata_df.target, return_counts=True)\n",
    "no_of_groups"
   ]
  },
  {
   "cell_type": "code",
   "execution_count": 42,
   "metadata": {},
   "outputs": [
    {
     "data": {
      "image/png": "[encoded data removed]",
      "text/plain": [
       "<Figure size 648x504 with 1 Axes>"
      ]
     },
     "metadata": {
      "needs_background": "light"
     },
     "output_type": "display_data"
    }
   ],
   "source": [
    "## Reuters dataset line plot\n",
    "plt.rcParams['figure.figsize'] = [9, 7]\n",
    "plt.plot(no_of_groups,label=\"Number of files\")\n",
    "plt.title(\"\\nReuters\\n\", fontsize=20)\n",
    "plt.ylabel('Number of files\\n', fontsize=12)\n",
    "plt.xlabel('\\nDistribution of groups', fontsize=12)\n",
    "plt.legend()\n",
    "plt.show()"
   ]
  },
  {
   "cell_type": "code",
   "execution_count": 43,
   "metadata": {},
   "outputs": [
    {
     "data": {
      "text/plain": [
       "1728786"
      ]
     },
     "execution_count": 43,
     "metadata": {},
     "output_type": "execute_result"
    }
   ],
   "source": [
    "# Display the total number of words in all text documents\n",
    "total_no_of_words = [len(mydata_df['data'][i].split()) for i in range(len(mydata_df))]\n",
    "sum(total_no_of_words)"
   ]
  },
  {
   "cell_type": "code",
   "execution_count": 9,
   "metadata": {},
   "outputs": [],
   "source": [
    "## Pre-processing lambda functions\n",
    "# Makes alpha numeric words as one\n",
    "alphanumeric    = lambda words: re.sub(r\"\"\"\\w*\\d\\w*\"\"\", ' ', words)\n",
    "\n",
    "# Removes '\\n' all new lines\n",
    "remove_n_line   = lambda words: words.translate(str.maketrans('\\n', ' '))\n",
    "\n",
    "# Removes '\\t' all tabs\n",
    "remove_t_line   = lambda words: words.translate(str.maketrans('\\t', ' '))\n",
    "\n",
    "# Removes all extra white spaces\n",
    "remove_e_spaces = lambda words: re.sub(' +', ' ', words)\n",
    "\n",
    "# Removes all white spaces at the start of a string\n",
    "remove_f_spaces = lambda words: re.sub('^ ', '', words)\n",
    "\n",
    "# Removes all white spaces at the end of a string\n",
    "remove_l_spaces = lambda words: re.sub(' $', '', words)\n",
    "\n",
    "# Removes all punctuations \n",
    "punc            = lambda words: re.sub('[%s]' % re.escape(punctuations), ' ', words.lower())\n",
    "\n",
    "# Removes all stop words\n",
    "remove_stop_w   = lambda words: re.compile(r'\\b('+'|'.join(stop_words)+r')\\b', flags=re.IGNORECASE).sub(\"\", words)\n",
    "\n",
    "## Uses Porter Stemmer  # Uncomment If stemming(Porter) needed\n",
    "# stems         = lambda words: stemming.stem(words)  \n",
    "\n",
    "# Uses WordNet Lemmatization  # Uncomment if Lemmatization(Wordnet) needed\n",
    "lemmas          = lambda words: lemmatizer.lemmatize(words)    "
   ]
  },
  {
   "cell_type": "code",
   "execution_count": 10,
   "metadata": {},
   "outputs": [],
   "source": [
    "# Running 2 to 3 times gives clean data\n",
    "# mydata_df_ = mydata_df # Uncomment if reuters needed\n",
    "mydata_df['data'] = mydata_df.data.map(alphanumeric)\n",
    "mydata_df['data'] = mydata_df.data.map(remove_n_line)\n",
    "mydata_df['data'] = mydata_df.data.map(remove_t_line)\n",
    "mydata_df['data'] = mydata_df.data.map(remove_e_spaces)\n",
    "mydata_df['data'] = mydata_df.data.map(remove_f_spaces)\n",
    "mydata_df['data'] = mydata_df.data.map(remove_l_spaces)\n",
    "mydata_df['data'] = mydata_df.data.map(punc)\n",
    "mydata_df['data'] = mydata_df.data.map(remove_stop_w)\n",
    "mydata_df['data'] = mydata_df.data.map(lemmas) "
   ]
  },
  {
   "cell_type": "code",
   "execution_count": 11,
   "metadata": {},
   "outputs": [
    {
     "data": {
      "text/html": [
       "<div>\n",
       "<style scoped>\n",
       "    .dataframe tbody tr th:only-of-type {\n",
       "        vertical-align: middle;\n",
       "    }\n",
       "\n",
       "    .dataframe tbody tr th {\n",
       "        vertical-align: top;\n",
       "    }\n",
       "\n",
       "    .dataframe thead th {\n",
       "        text-align: right;\n",
       "    }\n",
       "</style>\n",
       "<table border=\"1\" class=\"dataframe\">\n",
       "  <thead>\n",
       "    <tr style=\"text-align: right;\">\n",
       "      <th></th>\n",
       "      <th>data</th>\n",
       "      <th>target</th>\n",
       "    </tr>\n",
       "  </thead>\n",
       "  <tbody>\n",
       "    <tr>\n",
       "      <td>0</td>\n",
       "      <td>sure  bashers  pens fans  pretty confused   ...</td>\n",
       "      <td>10</td>\n",
       "    </tr>\n",
       "    <tr>\n",
       "      <td>1</td>\n",
       "      <td>brother    market   high performance video ca...</td>\n",
       "      <td>3</td>\n",
       "    </tr>\n",
       "    <tr>\n",
       "      <td>2</td>\n",
       "      <td>finally  said   dream   mediterranean       ne...</td>\n",
       "      <td>17</td>\n",
       "    </tr>\n",
       "    <tr>\n",
       "      <td>3</td>\n",
       "      <td>think     scsi card doing  dma transfers   dis...</td>\n",
       "      <td>3</td>\n",
       "    </tr>\n",
       "    <tr>\n",
       "      <td>4</td>\n",
       "      <td>old jasmine drive    use   new    underst...</td>\n",
       "      <td>4</td>\n",
       "    </tr>\n",
       "  </tbody>\n",
       "</table>\n",
       "</div>"
      ],
      "text/plain": [
       "                                                data  target\n",
       "0    sure  bashers  pens fans  pretty confused   ...      10\n",
       "1   brother    market   high performance video ca...       3\n",
       "2  finally  said   dream   mediterranean       ne...      17\n",
       "3  think     scsi card doing  dma transfers   dis...       3\n",
       "4       old jasmine drive    use   new    underst...       4"
      ]
     },
     "execution_count": 11,
     "metadata": {},
     "output_type": "execute_result"
    }
   ],
   "source": [
    "# Displaying the first 5 rows of the dataframe - after pre-processing\n",
    "mydata_df.head()"
   ]
  },
  {
   "cell_type": "code",
   "execution_count": 12,
   "metadata": {},
   "outputs": [
    {
     "data": {
      "text/plain": [
       "((18846, 87175), scipy.sparse.csr.csr_matrix, dtype('float64'))"
      ]
     },
     "execution_count": 12,
     "metadata": {},
     "output_type": "execute_result"
    }
   ],
   "source": [
    "# Convert text data into tfidf matrix\n",
    "vectorizer = TfidfVectorizer(lowercase=True,use_idf=True,smooth_idf=False,sublinear_tf=False, stop_words=stop_words)\n",
    "tfidf_matrix = vectorizer.fit_transform(mydata_df.data) #.astype('float32')\n",
    "# tfidf matrix shape will give the exact amount of unique words\n",
    "tfidf_matrix.shape, type(tfidf_matrix), tfidf_matrix.dtype"
   ]
  },
  {
   "cell_type": "code",
   "execution_count": 13,
   "metadata": {},
   "outputs": [
    {
     "data": {
      "text/plain": [
       "((18846, 1000), numpy.ndarray, dtype('float64'))"
      ]
     },
     "execution_count": 13,
     "metadata": {},
     "output_type": "execute_result"
    }
   ],
   "source": [
    "## Reducing Sparse TFIDF matrix into 1000 terms using TruncatedSVD\n",
    "tsvd = TruncatedSVD(n_components=1000)\n",
    "N_terms = tsvd.fit_transform(tfidf_matrix)\n",
    "N_terms.shape, type(N_terms), N_terms.dtype"
   ]
  },
  {
   "cell_type": "code",
   "execution_count": null,
   "metadata": {},
   "outputs": [],
   "source": [
    "## Reducing Sparse TFIDF matrix into 100 terms using TruncatedSVD\n",
    "tsvd = TruncatedSVD(n_components=100)\n",
    "N_terms = tsvd.fit_transform(tfidf_matrix)\n",
    "N_terms.shape, type(N_terms), N_terms.dtype"
   ]
  },
  {
   "cell_type": "code",
   "execution_count": 14,
   "metadata": {},
   "outputs": [],
   "source": [
    "class KMeans:\n",
    "    def __init__(self, k, buckshot_centroids=None, max_iteration=100):\n",
    "        self.k = k\n",
    "        self.max_iteration = max_iteration\n",
    "        self.buckshot_centroids = None\n",
    "\n",
    "    def init_centroids(self, data_matrix):\n",
    "        if self.buckshot_centroids != None:\n",
    "            self.centroids = data_matrix[self.buckshot_centroids]\n",
    "        else:\n",
    "            init_centroids = np.random.permutation(data_matrix.shape[0])[:self.k]\n",
    "            self.centroids = data_matrix[init_centroids]\n",
    "        return self.centroids\n",
    "\n",
    "    def return_clusters(self, data_matrix):\n",
    "        dist_from_centroid = metrics.pairwise_distances(data_matrix, self.centroids, metric='euclidean')\n",
    "        self.cluster_ids = np.argmin(dist_from_centroid, axis=1)\n",
    "        return self.cluster_ids\n",
    "\n",
    "    def reassign_centroids(self, data_matrix):\n",
    "        self.centroids = np.array([data_matrix[self.cluster_ids == i].mean(axis=0) for i in range(self.k)])\n",
    "        return self.centroids\n",
    "    \n",
    "    # Main function\n",
    "    def perform_kmeans(self, data_matrix):\n",
    "        self.centroids = self.init_centroids(data_matrix)\n",
    "        for iterations in range(self.max_iteration):\n",
    "            self.cluster_ids = self.return_clusters(data_matrix)\n",
    "            self.centroids = self.reassign_centroids(data_matrix)\n",
    "        return self\n",
    "    \n",
    "    # Returns 1d numpy array with predicted labels\n",
    "    def predictions(self, data_matrix):\n",
    "        return self.return_clusters(data_matrix)"
   ]
  },
  {
   "cell_type": "code",
   "execution_count": 15,
   "metadata": {},
   "outputs": [
    {
     "data": {
      "text/plain": [
       "array([19, 11, 13, ..., 11,  6,  6], dtype=int64)"
      ]
     },
     "execution_count": 15,
     "metadata": {},
     "output_type": "execute_result"
    }
   ],
   "source": [
    "kmeans = KMeans(k=20)\n",
    "km = kmeans.perform_kmeans(N_terms)\n",
    "predictions = km.predictions(N_terms)\n",
    "# Displays the predicted cluster id list/array\n",
    "predictions"
   ]
  },
  {
   "cell_type": "code",
   "execution_count": 16,
   "metadata": {},
   "outputs": [
    {
     "data": {
      "text/html": [
       "<div>\n",
       "<style scoped>\n",
       "    .dataframe tbody tr th:only-of-type {\n",
       "        vertical-align: middle;\n",
       "    }\n",
       "\n",
       "    .dataframe tbody tr th {\n",
       "        vertical-align: top;\n",
       "    }\n",
       "\n",
       "    .dataframe thead th {\n",
       "        text-align: right;\n",
       "    }\n",
       "</style>\n",
       "<table border=\"1\" class=\"dataframe\">\n",
       "  <thead>\n",
       "    <tr style=\"text-align: right;\">\n",
       "      <th></th>\n",
       "      <th>data</th>\n",
       "      <th>target</th>\n",
       "      <th>predictions</th>\n",
       "    </tr>\n",
       "  </thead>\n",
       "  <tbody>\n",
       "    <tr>\n",
       "      <td>0</td>\n",
       "      <td>sure  bashers  pens fans  pretty confused   ...</td>\n",
       "      <td>10</td>\n",
       "      <td>19</td>\n",
       "    </tr>\n",
       "    <tr>\n",
       "      <td>1</td>\n",
       "      <td>brother    market   high performance video ca...</td>\n",
       "      <td>3</td>\n",
       "      <td>11</td>\n",
       "    </tr>\n",
       "    <tr>\n",
       "      <td>2</td>\n",
       "      <td>finally  said   dream   mediterranean       ne...</td>\n",
       "      <td>17</td>\n",
       "      <td>13</td>\n",
       "    </tr>\n",
       "    <tr>\n",
       "      <td>3</td>\n",
       "      <td>think     scsi card doing  dma transfers   dis...</td>\n",
       "      <td>3</td>\n",
       "      <td>15</td>\n",
       "    </tr>\n",
       "    <tr>\n",
       "      <td>4</td>\n",
       "      <td>old jasmine drive    use   new    underst...</td>\n",
       "      <td>4</td>\n",
       "      <td>15</td>\n",
       "    </tr>\n",
       "    <tr>\n",
       "      <td>5</td>\n",
       "      <td>high school  worked   lab assistant   bunch ...</td>\n",
       "      <td>12</td>\n",
       "      <td>11</td>\n",
       "    </tr>\n",
       "    <tr>\n",
       "      <td>6</td>\n",
       "      <td>ae   dallas   try            tech support     ...</td>\n",
       "      <td>4</td>\n",
       "      <td>11</td>\n",
       "    </tr>\n",
       "    <tr>\n",
       "      <td>7</td>\n",
       "      <td>stuff deleted  ok     solution   problem    c...</td>\n",
       "      <td>10</td>\n",
       "      <td>19</td>\n",
       "    </tr>\n",
       "    <tr>\n",
       "      <td>8</td>\n",
       "      <td>yeah     second     believe  price    ve  tryi...</td>\n",
       "      <td>10</td>\n",
       "      <td>6</td>\n",
       "    </tr>\n",
       "    <tr>\n",
       "      <td>9</td>\n",
       "      <td>christian means   believes   divinity  jesus...</td>\n",
       "      <td>19</td>\n",
       "      <td>18</td>\n",
       "    </tr>\n",
       "  </tbody>\n",
       "</table>\n",
       "</div>"
      ],
      "text/plain": [
       "                                                data  target  predictions\n",
       "0    sure  bashers  pens fans  pretty confused   ...      10           19\n",
       "1   brother    market   high performance video ca...       3           11\n",
       "2  finally  said   dream   mediterranean       ne...      17           13\n",
       "3  think     scsi card doing  dma transfers   dis...       3           15\n",
       "4       old jasmine drive    use   new    underst...       4           15\n",
       "5    high school  worked   lab assistant   bunch ...      12           11\n",
       "6  ae   dallas   try            tech support     ...       4           11\n",
       "7   stuff deleted  ok     solution   problem    c...      10           19\n",
       "8  yeah     second     believe  price    ve  tryi...      10            6\n",
       "9    christian means   believes   divinity  jesus...      19           18"
      ]
     },
     "execution_count": 16,
     "metadata": {},
     "output_type": "execute_result"
    }
   ],
   "source": [
    "# Makes a dataframe column for predicted lables\n",
    "mydata_df['predictions'] = predictions\n",
    "# Displays a dataframe of 10 rows with columns data, target, predictions\n",
    "mydata_df.head(10)"
   ]
  },
  {
   "cell_type": "code",
   "execution_count": 17,
   "metadata": {},
   "outputs": [],
   "source": [
    "# Makes tuple of pairs list with true_labels,pred_lables\n",
    "targ_list = mydata_df['target'].tolist() # makes a dataframe columns into list\n",
    "pred_list = mydata_df['predictions'].tolist() # makes a dataframe columns into list\n",
    "pairs_list = [(targ_list[i],pred_list[i]) for i in range(len(targ_list))]\n",
    "\n",
    "# Assigning new variables for calculating validity measures\n",
    "true_groups = targ_list ##\n",
    "pred_groups = pred_list"
   ]
  },
  {
   "cell_type": "code",
   "execution_count": 20,
   "metadata": {},
   "outputs": [],
   "source": [
    "## Functions for calculating cluster validation scores\n",
    "\n",
    "# Function for calculating homogeneity score\n",
    "def hm_scores(true_groups, pred_groups):\n",
    "    hm = metrics.homogeneity_score(true_groups, pred_groups)\n",
    "    return hm \n",
    "\n",
    "# Function for calculating completeness score\n",
    "def cp_scores(true_groups, pred_groups):\n",
    "    cp = metrics.completeness_score(true_groups, pred_groups)\n",
    "    return cp\n",
    "\n",
    "# Function for calculating v-measure \n",
    "def vm_scores(true_groups, pred_groups):\n",
    "    vm = metrics.v_measure_score(true_groups, pred_groups)\n",
    "    return vm\n",
    "\n",
    "# Main validity measure function\n",
    "def measures(clusters_range=20): ## clusters_range positional argument for x axis plot:number of clusters # i.e 80 for reuters dataset\n",
    "    # returns 4 lists, where:\n",
    "    # x: number of clusters\n",
    "    # y: hm_list, cp_list, vm_list\n",
    "    plots_x = list(range(2,clusters_range+1)) # x-axis starts from 2\n",
    "    plots_y_hm=[]\n",
    "    plots_y_cp=[] \n",
    "    plots_y_vm=[]\n",
    "\n",
    "    for i in range(2,clusters_range+1):\n",
    "        kmeans = KMeans(k=i)\n",
    "        km = kmeans.perform_kmeans(N_terms)\n",
    "        predictions = km.predictions(N_terms)\n",
    "        plots_y_hm.append(hm_scores(true_groups,predictions))\n",
    "        plots_y_cp.append(cp_scores(true_groups,predictions))\n",
    "        plots_y_vm.append(vm_scores(true_groups,predictions))\n",
    "    return plots_x, plots_y_hm, plots_y_cp, plots_y_vm\n",
    "\n",
    "# plotting measures using the main function\n",
    "def plot_measures():\n",
    "    plots_x, plots_y_hm, plots_y_cp, plots_y_vm = measures()\n",
    "    plt.rcParams['figure.figsize'] = [9, 7]\n",
    "    plt.plot(plots_x, plots_y_hm, marker='o',color=\"blue\", label=\"Homogeneity\")\n",
    "    plt.plot(plots_x, plots_y_cp, marker='o',color=\"green\", label=\"Completeness\")\n",
    "    plt.plot(plots_x, plots_y_vm, marker='o',color=\"red\", label=\"V-Measures\")\n",
    "#     plt.plot(plots_x, plots_y_hm, color=\"blue\", label=\"Homogeneity\") # for reuters\n",
    "#     plt.plot(plots_x, plots_y_cp, color=\"green\", label=\"Completeness\") # for reuters\n",
    "#     plt.plot(plots_x, plots_y_vm, color=\"red\", label=\"V-Measures\") # for reuters\n",
    "    plt.xlabel(\"\\nNumber of Clusters\",size=\"large\")\n",
    "    plt.xticks(range(0,24,2))\n",
    "#     plt.xticks(range(0,82,5)) # for reuters\n",
    "    plt.yticks(np.arange(0,0.7,0.1))\n",
    "    plt.grid()\n",
    "    plt.legend()\n",
    "#     plt.title(\"\\n20 News group (1st variant)- Kmeans with 100 terms\\n\",size=\"x-large\")\n",
    "#     plt.title(\"\\n20 News group (2nd variant)- Kmeans with 100 terms\\n\",size=\"x-large\")\n",
    "#     plt.title(\"\\nReuters - Kmeans with 100 terms\\n\",size=\"x-large\")\n",
    "    plt.ylabel(\"\\nMetric values\\n\",size=\"large\")\n",
    "    plt.show()"
   ]
  },
  {
   "cell_type": "code",
   "execution_count": 24,
   "metadata": {},
   "outputs": [
    {
     "data": {
      "image/png": "[encoded data removed]",
      "text/plain": [
       "<Figure size 648x504 with 1 Axes>"
      ]
     },
     "metadata": {
      "needs_background": "light"
     },
     "output_type": "display_data"
    }
   ],
   "source": [
    "# Plots everytime differ - takes some time\n",
    "plot_measures()"
   ]
  },
  {
   "cell_type": "code",
   "execution_count": 25,
   "metadata": {},
   "outputs": [],
   "source": [
    "# Function to calculate entropy based on pairs_list(true_lables,predicted_lables)\n",
    "def calculate_entropy(pairs_list):\n",
    "    entropy = []\n",
    "    for i in range(len(pairs_list)):\n",
    "        for j in range(len(pairs_list[i])):\n",
    "            count = pairs_list.count((i,j))\n",
    "            if count > 0:\n",
    "                p_ij = count / no_of_docs\n",
    "                entropy.append(p_ij *log2(p_ij))\n",
    "    return -sum(entropy)\n",
    "\n",
    "# Function to calculate purity based on pairs_list\n",
    "def calculate_purity(pairs_list):\n",
    "    confusion_matrix = np.zeros((len(no_of_groups),len(no_of_groups)))\n",
    "    purity = []\n",
    "    for i in range(len(pairs_list)):\n",
    "        confusion_matrix[pairs_list[i][0]][pairs_list[i][1]] = confusion_matrix[pairs_list[i][0]][pairs_list[i][1]]+1\n",
    "    for j in confusion_matrix:\n",
    "        purity.append(max(j))\n",
    "    return (sum(purity))/(no_of_docs)"
   ]
  },
  {
   "cell_type": "code",
   "execution_count": 26,
   "metadata": {},
   "outputs": [
    {
     "data": {
      "text/plain": [
       "(0.0015071602173801464, 0.6159397219569139)"
      ]
     },
     "execution_count": 26,
     "metadata": {},
     "output_type": "execute_result"
    }
   ],
   "source": [
    "# Displays the entropy and purity for k-clusters\n",
    "calculate_entropy(pairs_list), calculate_purity(pairs_list)"
   ]
  },
  {
   "cell_type": "code",
   "execution_count": 27,
   "metadata": {},
   "outputs": [],
   "source": [
    "# Function to calculate cosine similarity between two documents\n",
    "def cosine(a,b):\n",
    "    dot_prod = np.dot(a,b)\n",
    "    mod_a_b = np.linalg.norm(a) * np.linalg.norm(b)\n",
    "    cs = dot_prod/mod_a_b\n",
    "    return cs\n",
    "\n",
    "# Function to create similarity matrix for Buckshot\n",
    "def similarity_matrix(k):\n",
    "    global sample_subset, doc_list\n",
    "    sample_subset = round((no_of_docs * k)**0.5)  #i.e  √kn\n",
    "    doc_list = np.random.permutation(no_of_docs)[:sample_subset]\n",
    "    s_mat = np.zeros((sample_subset,sample_subset))\n",
    "    for i in range(sample_subset):\n",
    "        for j in range(sample_subset):\n",
    "            s_mat[i][j] = cosine(N_terms[doc_list[i]],N_terms[doc_list[j]])\n",
    "    return s_mat"
   ]
  },
  {
   "cell_type": "code",
   "execution_count": 28,
   "metadata": {},
   "outputs": [
    {
     "name": "stderr",
     "output_type": "stream",
     "text": [
      "C:\\ProgramData\\Anaconda3\\lib\\site-packages\\ipykernel_launcher.py:5: RuntimeWarning: invalid value encountered in double_scalars\n",
      "  \"\"\"\n"
     ]
    },
    {
     "data": {
      "text/plain": [
       "(614, 614)"
      ]
     },
     "execution_count": 28,
     "metadata": {},
     "output_type": "execute_result"
    }
   ],
   "source": [
    "## Similarity matrix creation for buckshot\n",
    "k = 20 # for 20 news group's true k value\n",
    "# k = 80 # for reuters's true k value\n",
    "sim_matrix = similarity_matrix(k)\n",
    "sim_matrix.shape"
   ]
  },
  {
   "cell_type": "code",
   "execution_count": 29,
   "metadata": {},
   "outputs": [],
   "source": [
    "from copy import deepcopy\n",
    "\n",
    "# Creates a dictionary object with doc_ids and its distances\n",
    "class Compute_distance_dict:\n",
    "    def __init__(self, np_array):\n",
    "        self.np_array = np_array\n",
    "        self.distances = {}\n",
    "\n",
    "        if self.np_array.shape[0] == self.np_array.shape[1]:\n",
    "            length = self.np_array.shape[0]\n",
    "            self.np_array = np_array\n",
    "            self.distances = {}\n",
    "            length = length - 1\n",
    "            self.docs = [str(i) for i in range(length+1)]\n",
    "            self.np_array = np.delete(np_array, 0, 0)\n",
    "\n",
    "            for i in range(length):\n",
    "                self.distances[str(i+1)] = {str(j): float(self.np_array[i][j]) for j in range(i + 1)}\n",
    "#             print(self.distances)\n",
    "            # Removing numpy array from memory to save space\n",
    "            del self.np_array\n",
    "        else:\n",
    "            print(\"Array's shape should be n*n, not {}*{}\".format(self.np_array.shape[0],self.np_array.shape[1]))\n",
    "            print(\"Stopped execution !\")\n",
    "\n",
    "    def nearest(self):\n",
    "        if len(self.docs) < 2:\n",
    "            return None\n",
    "        curr_nearest = None\n",
    "        curr_a = None\n",
    "        curr_b = None\n",
    "        for a, bs in self.distances.items():\n",
    "            for b, dist in bs.items():\n",
    "                if curr_nearest is None or \\\n",
    "                            dist < curr_nearest:\n",
    "                    curr_nearest = dist\n",
    "                    curr_a = a\n",
    "                    curr_b = b\n",
    "        return (curr_a, curr_b)\n",
    "\n",
    "    def distance(self, a, b):\n",
    "        if a in self.distances:\n",
    "            if b in self.distances[a]:\n",
    "                return self.distances[a][b]\n",
    "        if b in self.distances:\n",
    "            if a in self.distances[b]:\n",
    "                return self.distances[b][a]\n",
    "        return None\n",
    "\n",
    "    def to_trees(self):\n",
    "        new_distances = {}\n",
    "        for a in self.distances:\n",
    "            new_a = Tree((a,), 0)\n",
    "            new_distances[new_a] = {}\n",
    "            for b in self.distances[a]:\n",
    "                new_b = Tree((b,), 0)\n",
    "                new_distances[new_a][new_b] = self.distances[a][b]\n",
    "        self.distances = new_distances\n",
    "\n",
    "        new_docs = []\n",
    "        for o in self.docs:\n",
    "            new_docs.append(Tree((o,), 0))\n",
    "        self.docs = new_docs\n",
    "\n",
    "    def _get_n_trees(self):\n",
    "        return len(self.distances) + 1\n",
    "\n",
    "    \n",
    "class Tree(object):\n",
    "    def __init__(self, id, depth, parent=None, children=None):\n",
    "        self.id = id\n",
    "        self.parent = parent\n",
    "        self.children = children\n",
    "        self.depth = depth\n",
    "\n",
    "    def __repr__(self):\n",
    "        return '(%s %f)' % (self.id, self.depth)\n",
    "\n",
    "    def __key(self):\n",
    "        return (self.id, self.depth)\n",
    "\n",
    "    def __eq__(x, y):\n",
    "        return type(x) == type(y) and x.__key() == y.__key()\n",
    "\n",
    "    def __hash__(self):\n",
    "        return hash(self.__key())\n",
    "\n",
    "# Class for HAC initialzed with dist obj from distance_dict\n",
    "class HAC:\n",
    "    def __init__(self, dist_obj):\n",
    "        self.dist_obj = dist_obj\n",
    "        self.temp_dist_obj = deepcopy(dist_obj)\n",
    "        self.temp_dist_obj.to_trees()\n",
    "        self.clusters = deepcopy(self.temp_dist_obj.docs)\n",
    "\n",
    "        while 1:\n",
    "            trees = self.temp_dist_obj.nearest()\n",
    "            if trees is None:\n",
    "                break\n",
    "            self._merge(trees[0], trees[1])\n",
    "\n",
    "    # Performs hac with group average linkage\n",
    "    def _grp_avg__linkage(self, a, b):\n",
    "        sum = 0\n",
    "        n_docs = 0\n",
    "        for docs_a in a.id:\n",
    "            for docs_b in b.id:\n",
    "                sum += self.dist_obj.distance(docs_a, docs_b)\n",
    "                n_docs += 1\n",
    "        return sum / n_docs         \n",
    "\n",
    "    # merges two doc ids based on their distance\n",
    "    def _merge(self, a, b):\n",
    "        c = Tree(a.id + b.id, self.temp_dist_obj.distance(a, b) * 0.5,\n",
    "                 children=(a, b))\n",
    "        self._cluster_parent(a, c)\n",
    "        self._cluster_parent(b, c)\n",
    "        self.temp_dist_obj.docs.remove(a)\n",
    "        self.temp_dist_obj.docs.remove(b)\n",
    "        self.clusters.append(c)\n",
    "\n",
    "        if a in self.temp_dist_obj.distances:\n",
    "            del self.temp_dist_obj.distances[a]\n",
    "        if b in self.temp_dist_obj.distances:\n",
    "            del self.temp_dist_obj.distances[b]\n",
    "\n",
    "        for x, ys in self.temp_dist_obj.distances.items():\n",
    "            if a in ys:\n",
    "                del ys[a]\n",
    "            if b in ys:\n",
    "                del ys[b]\n",
    "\n",
    "        merged = []\n",
    "        for x in self.temp_dist_obj.distances:\n",
    "            self.temp_dist_obj.distances[x][c] = self._grp_avg__linkage(x, c)\n",
    "            merged.append(x)\n",
    "\n",
    "        self.temp_dist_obj.distances[c] = {}\n",
    "\n",
    "        for x in self.temp_dist_obj.docs:\n",
    "            if x not in merged:\n",
    "                self.temp_dist_obj.distances[c][x] = self._grp_avg__linkage(x, c)\n",
    "\n",
    "        if len(self.temp_dist_obj.distances[c]) == 0:\n",
    "            del self.temp_dist_obj.distances[c]\n",
    "\n",
    "        self.temp_dist_obj.docs.append(c)\n",
    "\n",
    "# assigns a base parent to all list of clusters\n",
    "    def _cluster_parent(self, child, parent):\n",
    "        for n in self.clusters:\n",
    "            if n == child:\n",
    "                n.parent = parent\n",
    "\n",
    "    def _doc_ids(self, l):\n",
    "        ret_docids = [tree.id for tree in l]\n",
    "        return ret_docids\n",
    "\n",
    "    def _clusters(self):\n",
    "        list_of_clusters = [clust for clust in self.clusters if clust.children is None]\n",
    "        return list_of_clusters\n",
    "\n",
    "    def no_of_clusters(self, n):\n",
    "        if n <= 0:\n",
    "            return None\n",
    "        return_clusters = self._clusters()\n",
    "\n",
    "        while len(return_clusters) > n:\n",
    "            # find the parent with the smallest heirarchy\n",
    "            lowest = None\n",
    "            for tree in return_clusters:\n",
    "                if tree.parent.children[0] in return_clusters and \\\n",
    "                                tree.parent.children[1] in return_clusters:\n",
    "                    if lowest is None:\n",
    "                        lowest = tree.parent\n",
    "                    elif tree.parent.depth < lowest.depth:\n",
    "                        lowest = tree.parent\n",
    "            return_clusters.remove(lowest.children[0])\n",
    "            return_clusters.remove(lowest.children[1])\n",
    "            return_clusters.append(lowest)\n",
    "\n",
    "        return self._doc_ids(return_clusters)"
   ]
  },
  {
   "cell_type": "code",
   "execution_count": 32,
   "metadata": {},
   "outputs": [],
   "source": [
    "dis_mat = Compute_distance_dict(sim_matrix)\n",
    "hac = HAC(dis_mat)\n",
    "# hac.no_of_clusters(20)"
   ]
  },
  {
   "cell_type": "code",
   "execution_count": 34,
   "metadata": {},
   "outputs": [],
   "source": [
    "## Assigns list of new centroids\n",
    "new_centroids = hac.no_of_clusters(20) # for 20 news group\n"
   ]
  },
  {
   "cell_type": "code",
   "execution_count": 35,
   "metadata": {},
   "outputs": [],
   "source": [
    "# Assigning new centroids to their respective document ids to calculate better centroids\n",
    "_new_centroids = [doc_list[int(new_centroids[i][0])] for i in range(len(new_centroids))] \n",
    "# _new_centroids"
   ]
  },
  {
   "cell_type": "code",
   "execution_count": 36,
   "metadata": {},
   "outputs": [
    {
     "data": {
      "text/plain": [
       "array([0, 6, 5, ..., 2, 9, 2], dtype=int64)"
      ]
     },
     "execution_count": 36,
     "metadata": {},
     "output_type": "execute_result"
    }
   ],
   "source": [
    "# Assigning new cnetorids to kmeans ( i.e: last step of buckshot algorithm )\n",
    "kmeans = KMeans(k=20, buckshot_centroids=_new_centroids)\n",
    "km = kmeans.perform_kmeans(N_terms)\n",
    "predictions = km.predictions(N_terms)\n",
    "# Displays the predicted cluster id list/array\n",
    "predictions"
   ]
  },
  {
   "cell_type": "code",
   "execution_count": 37,
   "metadata": {},
   "outputs": [],
   "source": [
    "# Makes tuple of pairs list with true_labels,pred_lables\n",
    "mydata_df['predictions'] = predictions\n",
    "targ_list = mydata_df['target'].tolist() # makes a dataframe columns into list\n",
    "pred_list = mydata_df['predictions'].tolist() # makes a dataframe columns into list\n",
    "pairs_list = [(targ_list[i],pred_list[i]) for i in range(len(targ_list))]\n",
    "\n",
    "# Assigning new variables for calculating validity measures\n",
    "true_groups = targ_list ##\n",
    "pred_groups = pred_list"
   ]
  },
  {
   "cell_type": "code",
   "execution_count": 38,
   "metadata": {},
   "outputs": [
    {
     "data": {
      "text/plain": [
       "(0.160726020568489, 0.5825108776398175)"
      ]
     },
     "execution_count": 38,
     "metadata": {},
     "output_type": "execute_result"
    }
   ],
   "source": [
    "calculate_entropy(pairs_list), calculate_purity(pairs_list)"
   ]
  },
  {
   "cell_type": "code",
   "execution_count": null,
   "metadata": {},
   "outputs": [],
   "source": []
  }
 ],
 "metadata": {
  "kernelspec": {
   "display_name": "Python 3",
   "language": "python",
   "name": "python3"
  },
  "language_info": {
   "codemirror_mode": {
    "name": "ipython",
    "version": 3
   },
   "file_extension": ".py",
   "mimetype": "text/x-python",
   "name": "python",
   "nbconvert_exporter": "python",
   "pygments_lexer": "ipython3",
   "version": "3.7.4"
  }
 },
 "nbformat": 4,
 "nbformat_minor": 4
}
